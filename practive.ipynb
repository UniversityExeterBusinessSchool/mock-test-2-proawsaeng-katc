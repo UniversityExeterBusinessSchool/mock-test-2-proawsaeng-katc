{
 "cells": [
  {
   "cell_type": "code",
   "execution_count": null,
   "metadata": {},
   "outputs": [
    {
     "name": "stdout",
     "output_type": "stream",
     "text": [
      "Average sales: 104.28571428571429\n",
      "Week's sales of 120 is above average.\n",
      "Week's sales of 85 is below average.\n",
      "Week's sales of 100 is below average.\n",
      "Week's sales of 90 is below average.\n",
      "Week's sales of 110 is above average.\n",
      "Week's sales of 95 is below average.\n",
      "Week's sales of 130 is above average.\n"
     ]
    }
   ],
   "source": [
    "# Question 1 - Loops and Lists\n",
    "# You are given a list of numbers representing weekly sales in units.\n",
    "weekly_sales = [120, 85, 100, 90, 110, 95, 130]\n",
    "\n",
    "# Write a for loop that iterates through the list and prints whether each week's sales were above or below the average sales for the period.\n",
    "# Calculate and print the average sales.\n",
    "\n",
    "average_sales = sum(weekly_sales)/len(weekly_sales) #Calculate average sales\n",
    "print(f\"Average sales: {average_sales}\")\n",
    "\n",
    "#loop values in the list to check if it is above or below average and then print out\n",
    "for sales in weekly_sales:      \n",
    "    if sales > average_sales:\n",
    "        print(f\"Week's sales of {sales} is above average.\")\n",
    "    else:\n",
    "        print(f\"Week's sales of {sales} is below average.\")"
   ]
  },
  {
   "cell_type": "code",
   "execution_count": 64,
   "metadata": {},
   "outputs": [
    {
     "name": "stdout",
     "output_type": "stream",
     "text": [
      "((16, 20), (34, 42))\n"
     ]
    }
   ],
   "source": [
    "# Question 2 - String Manipulation\n",
    "# A customer feedback string is provided:\n",
    "customer_feedback = \"\"\"The product was good but could be improved. I especially appreciated the customer support and fast response times.\"\"\"\n",
    "\n",
    "# Find the first and last occurrence of the words 'good' and 'improved' in the feedback using string methods.\n",
    "# Store each position in a list as a tuple (start, end) for both words and print the list.\n",
    "\n",
    "#Find the first occurrence using .find()\n",
    "#Find the last occurrence by add up number of the word length from first one\n",
    "#Put both in a tuple --> (first,last)\n",
    "word1 = (customer_feedback.find('good'), customer_feedback.find('good') + len('good'))      \n",
    "word2 = (customer_feedback.find('improved')), customer_feedback.find('improved') + len('improved')\n",
    "\n",
    "print((word1,word2))"
   ]
  },
  {
   "cell_type": "code",
   "execution_count": null,
   "metadata": {},
   "outputs": [
    {
     "name": "stdout",
     "output_type": "stream",
     "text": [
      "78.35662854722575\n",
      "0.5714285714285714\n",
      "42.75\n",
      "96.90721649484536\n"
     ]
    }
   ],
   "source": [
    "# Question 3 - Functions for Business Metrics\n",
    "# Define functions to calculate the following metrics, and call each function with sample values (use your student ID digits for customization).\n",
    "\n",
    "# 1. Net Profit Margin: Calculate as (Net Profit / Revenue) * 100.\n",
    "# 2. Customer Acquisition Cost (CAC): Calculate as (Total Marketing Cost / New Customers Acquired).\n",
    "# 3. Net Promoter Score (NPS): Calculate as (Promoters - Detractors) / Total Respondents * 100.\n",
    "# 4. Return on Investment (ROI): Calculate as (Net Gain from Investment / Investment Cost) * 100.\n",
    "\n",
    "#Create functions for each one\n",
    "def NetProfitMargin (netprofit, revenue):\n",
    "    return (netprofit/revenue) * 100\n",
    "\n",
    "def Cac (totalmarketingcost, newcustomer):\n",
    "    return totalmarketingcost/newcustomer\n",
    "\n",
    "def Nps (promoters, detractors, totalrespon):\n",
    "    return (promoters - detractors)/totalrespon * 100\n",
    "\n",
    "def Roi (netgain, investcost):\n",
    "    return (netgain/investcost) * 100\n",
    "\n",
    "\n",
    "#Calling each function by my student id 740094448\n",
    "print(NetProfitMargin(7400,9444))\n",
    "print(Cac(400,700))\n",
    "print(Nps(790,448,800))\n",
    "print(Roi(940,970))"
   ]
  },
  {
   "cell_type": "code",
   "execution_count": null,
   "metadata": {},
   "outputs": [
    {
     "name": "stdout",
     "output_type": "stream",
     "text": [
      "  Month  Sales  Cumulative Sales\n",
      "0   Jan    200               200\n",
      "1   Feb    220               420\n",
      "2   Mar    210               630\n",
      "3   Apr    240               870\n",
      "4   May    250              1120\n"
     ]
    }
   ],
   "source": [
    "# Question 4 - Data Analysis with Pandas\n",
    "# Using a dictionary sales_data, create a DataFrame from this dictionary, and display the DataFrame.\n",
    "# Write code to calculate and print the cumulative monthly sales up to each month.\n",
    "\n",
    "import pandas as pd\n",
    "\n",
    "sales_data = {'Month': ['Jan', 'Feb', 'Mar', 'Apr', 'May'], 'Sales': [200, 220, 210, 240, 250]}\n",
    "\n",
    "df = pd.DataFrame(sales_data)      #Create dataframe from the dictionary\n",
    "\n",
    "cumulative_sales =[]    #new list for storing cumulative sales\n",
    "total = 0   #for calculating total in the loop below\n",
    "\n",
    "# for loop to loop in the column 'Sales' to calculate cumulative sales\n",
    "for i in df['Sales']:\n",
    "    total += i\n",
    "    cumulative_sales.append(total)  #store each value in the new list\n",
    "\n",
    "df['Cumulative Sales'] = cumulative_sales   #create new column to show cumulative sales\n",
    "print(df)  "
   ]
  },
  {
   "cell_type": "code",
   "execution_count": null,
   "metadata": {},
   "outputs": [
    {
     "name": "stdout",
     "output_type": "stream",
     "text": [
      "Demand for price at £26 is 145.17241379310343\n"
     ]
    },
    {
     "data": {
      "text/plain": [
       "<function matplotlib.pyplot.show(close=None, block=None)>"
      ]
     },
     "execution_count": 51,
     "metadata": {},
     "output_type": "execute_result"
    },
    {
     "data": {
      "image/png": "[encoded data removed]",
      "text/plain": [
       "<Figure size 640x480 with 1 Axes>"
      ]
     },
     "metadata": {},
     "output_type": "display_data"
    }
   ],
   "source": [
    "# Question 5 - Linear Regression for Forecasting\n",
    "# Using the dataset below, create a linear regression model to predict the demand for given prices.\n",
    "# Predict the demand if the company sets the price at £26. Show a scatter plot of the data points and plot the regression line.\n",
    "\n",
    "# Price (£): 15, 18, 20, 22, 25, 27, 30\n",
    "# Demand (Units): 200, 180, 170, 160, 150, 140, 130\n",
    "\n",
    "import matplotlib.pyplot as plt\n",
    "import numpy as np\n",
    "import statsmodels.api as sma\n",
    "from sklearn.linear_model import LinearRegression\n",
    "\n",
    "#store data for linear regression\n",
    "price = np.array([15, 18, 20, 22, 25, 27, 30]).reshape(-1,1)    #make it to 2D for sklearn\n",
    "demand = np.array([200, 180, 170, 160, 150, 140, 130])\n",
    "\n",
    "model = LinearRegression()\n",
    "model.fit(price,demand) #train model\n",
    "\n",
    "predict_demand = model.predict(np.array([[26]]))    #predict demand for price at 26\n",
    "print(f\"Demand for price at £26 is {predict_demand[0]}\")\n",
    "\n",
    "#plotting\n",
    "plt.scatter(price,demand,color='blue')\n",
    "plt.plot(price,model.predict(price),color='red')\n",
    "plt.xlabel('Price (£)')\n",
    "plt.ylabel('Demand (Units)')\n",
    "plt.title('Linear Regression')\n",
    "plt.show"
   ]
  },
  {
   "cell_type": "code",
   "execution_count": null,
   "metadata": {},
   "outputs": [
    {
     "name": "stdout",
     "output_type": "stream",
     "text": [
      "155\n"
     ]
    }
   ],
   "source": [
    "# Question 6 - Error Handling\n",
    "# You are given a dictionary of prices for different products.\n",
    "prices = {'A': 50, 'B': 75, 'C': 'unknown', 'D': 30}\n",
    "\n",
    "# Write a function to calculate the total price of all items, handling any non-numeric values by skipping them.\n",
    "# Include error handling in your function and explain where and why it’s needed.\n",
    "\n",
    "#create function for calculate total price\n",
    "def caculate_total (prices):\n",
    "    total_price = 0\n",
    "    for key, value in prices.items():\n",
    "        if type(value) == int or type(value) == float:  #check if the value is number, then add it up\n",
    "            total_price += value\n",
    "        else:\n",
    "            continue    #if it is not numeric then skip to the next value\n",
    "    return total_price\n",
    "\n",
    "print(caculate_total(prices))\n"
   ]
  },
  {
   "cell_type": "code",
   "execution_count": null,
   "metadata": {},
   "outputs": [
    {
     "data": {
      "text/plain": [
       "<function matplotlib.pyplot.show(close=None, block=None)>"
      ]
     },
     "execution_count": 57,
     "metadata": {},
     "output_type": "execute_result"
    },
    {
     "data": {
      "image/png": "[encoded data removed]",
      "text/plain": [
       "<Figure size 640x480 with 1 Axes>"
      ]
     },
     "metadata": {},
     "output_type": "display_data"
    }
   ],
   "source": [
    "# Question 7 - Plotting and Visualization\n",
    "# Generate 50 random numbers between 1 and 500, then:\n",
    "# Plot a histogram to visualize the distribution of these numbers.\n",
    "# Add appropriate labels for the x-axis and y-axis, and include a title for the histogram.\n",
    "\n",
    "import random\n",
    "\n",
    "number = [random.randint(1,500) for i in range(50)] #use random to random number between 1-500 for 50 numbers\n",
    "\n",
    "#plotting\n",
    "plt.hist(number, bins=10, color='pink')\n",
    "plt.xlabel('numbers')\n",
    "plt.ylabel('frequency')\n",
    "plt.title('Distribution of 50 random numbers')\n",
    "plt.show"
   ]
  },
  {
   "cell_type": "code",
   "execution_count": null,
   "metadata": {},
   "outputs": [
    {
     "name": "stdout",
     "output_type": "stream",
     "text": [
      "Original list: [5, 12, 9, 15, 7, 10]\n",
      "New list: [5, 24, 9, 30, 7, 20]\n"
     ]
    }
   ],
   "source": [
    "# Question 8 - List Comprehensions\n",
    "# Given a list of integers representing order quantities.\n",
    "quantities = [5, 12, 9, 15, 7, 10]\n",
    "\n",
    "# Use a list comprehension to create a new list that doubles each quantity that is 10 or more.\n",
    "# Print the original and the new lists.\n",
    "\n",
    "new_list = [i*2 if i>=10 else i for i in quantities]   \n",
    "\n",
    "print(f\"Original list: {quantities}\")\n",
    "print(f\"New list: {new_list}\")"
   ]
  },
  {
   "cell_type": "code",
   "execution_count": null,
   "metadata": {},
   "outputs": [
    {
     "name": "stdout",
     "output_type": "stream",
     "text": [
      "Remaining products: {'product_A': 4, 'product_B': 5, 'product_E': 5}\n"
     ]
    }
   ],
   "source": [
    "# Question 9 - Dictionary Manipulation\n",
    "# Using the dictionary below, filter out the products with a rating of less than 4 and create a new dictionary with the remaining products.\n",
    "ratings = {'product_A': 4, 'product_B': 5, 'product_C': 3, 'product_D': 2, 'product_E': 5}\n",
    "\n",
    "good_ratings = {}   #new dictionary to store filtered products\n",
    "\n",
    "for key, value in ratings.items():\n",
    "    if value < 4:   #if rating is less than 4 then skip\n",
    "        continue\n",
    "    else:\n",
    "        good_ratings[key] = value   #if not then store in the new dictionary\n",
    "\n",
    "\n",
    "print(f\"Remaining products: {good_ratings}\")"
   ]
  },
  {
   "cell_type": "code",
   "execution_count": 61,
   "metadata": {},
   "outputs": [
    {
     "name": "stdout",
     "output_type": "stream",
     "text": [
      "The average is 30.0\n"
     ]
    }
   ],
   "source": [
    "# Question 10 - Debugging and Correcting Code\n",
    "# The following code intends to calculate the average of a list of numbers, but it contains errors:\n",
    "values = [10, 20, 30, 40, 50]\n",
    "total = 0\n",
    "for i in values:\n",
    "    total = total + i\n",
    "average = total / len(values)\n",
    "#print(\"The average is\" + average)   #This line is wrong, string can't combine(+) with numeric(int or float)\n",
    "\n",
    "#Correcting Code\n",
    "\n",
    "values = [10, 20, 30, 40, 50]\n",
    "total = 0\n",
    "for i in values:\n",
    "    total = total + i\n",
    "average = total / len(values)\n",
    "print(\"The average is\", average)     #change from + to , to print it properly"
   ]
  }
 ],
 "metadata": {
  "kernelspec": {
   "display_name": "base",
   "language": "python",
   "name": "python3"
  },
  "language_info": {
   "codemirror_mode": {
    "name": "ipython",
    "version": 3
   },
   "file_extension": ".py",
   "mimetype": "text/x-python",
   "name": "python",
   "nbconvert_exporter": "python",
   "pygments_lexer": "ipython3",
   "version": "3.12.7"
  }
 },
 "nbformat": 4,
 "nbformat_minor": 2
}
