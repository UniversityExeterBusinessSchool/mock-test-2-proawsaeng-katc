{
 "cells": [
  {
   "cell_type": "code",
   "execution_count": 7,
   "metadata": {},
   "outputs": [
    {
     "name": "stdout",
     "output_type": "stream",
     "text": [
      "Average Sales: 104.28571428571429\n",
      "Week's sales of 120 is above average.\n",
      "Week's sales of 85 is below average.\n",
      "Week's sales of 100 is below average.\n",
      "Week's sales of 90 is below average.\n",
      "Week's sales of 110 is above average.\n",
      "Week's sales of 95 is below average.\n",
      "Week's sales of 130 is above average.\n"
     ]
    }
   ],
   "source": [
    "# Question 1 - Loops and Lists\n",
    "# You are given a list of numbers representing weekly sales in units.\n",
    "weekly_sales = [120, 85, 100, 90, 110, 95, 130]\n",
    "\n",
    "# Write a for loop that iterates through the list and prints whether each week's sales were above or below the average sales for the period.\n",
    "# Calculate and print the average sales.\n",
    "\n",
    "avg_sales = sum(weekly_sales)/len(weekly_sales)\n",
    "print(f\"Average Sales: {avg_sales}\")\n",
    "\n",
    "for sales in weekly_sales:\n",
    "    if sales > avg_sales:\n",
    "        print(f\"Week's sales of {sales} is above average.\")\n",
    "    else:\n",
    "        print(f\"Week's sales of {sales} is below average.\")\n"
   ]
  },
  {
   "cell_type": "code",
   "execution_count": 1,
   "metadata": {},
   "outputs": [
    {
     "name": "stdout",
     "output_type": "stream",
     "text": [
      "position: [(16, 20), (34, 42)]\n"
     ]
    }
   ],
   "source": [
    "# Question 2 - String Manipulation\n",
    "# A customer feedback string is provided:\n",
    "customer_feedback = \"\"\"The product was good but could be improved. I especially appreciated the customer support and fast response times.\"\"\"\n",
    "\n",
    "# Find the first and last occurrence of the words 'good' and 'improved' in the feedback using string methods.\n",
    "# Store each position in a list as a tuple (start, end) for both words and print the list.\n",
    "\n",
    "position = [(customer_feedback.find('good'), customer_feedback.find('good') + len('good')),\n",
    "            (customer_feedback.find('improved'), customer_feedback.find('improved') + len('improved'))]\n",
    "\n",
    "print(f\"position: {position}\")"
   ]
  },
  {
   "cell_type": "code",
   "execution_count": 2,
   "metadata": {},
   "outputs": [
    {
     "name": "stdout",
     "output_type": "stream",
     "text": [
      "Net Profit Margin:  165.17857142857142\n",
      "Customer Acquisition Cost (CAC):  0.7835662854722575\n",
      "Net Promoter Score (NPS):  36.016949152542374\n",
      "Return on Investment (ROI):  82.20273120905962\n"
     ]
    }
   ],
   "source": [
    "# Question 3 - Functions for Business Metrics\n",
    "# Define functions to calculate the following metrics, and call each function with sample values (use your student ID digits for customization).\n",
    "\n",
    "# 1. Net Profit Margin: Calculate as (Net Profit / Revenue) * 100.\n",
    "# 2. Customer Acquisition Cost (CAC): Calculate as (Total Marketing Cost / New Customers Acquired).\n",
    "# 3. Net Promoter Score (NPS): Calculate as (Promoters - Detractors) / Total Respondents * 100.\n",
    "# 4. Return on Investment (ROI): Calculate as (Net Gain from Investment / Investment Cost) * 100.\n",
    "\n",
    "def NetProfitMargin(net_profit,revenue):\n",
    "    return net_profit/revenue * 100\n",
    "\n",
    "def Cac(total_marketing_cost, new_customers):\n",
    "    return total_marketing_cost/new_customers\n",
    "\n",
    "def Nps(promoters, detractors, total_respon):\n",
    "    return (promoters - detractors) / total_respon * 100\n",
    "\n",
    "def Roi(netgain, invest_cost):\n",
    "    return netgain/invest_cost * 100\n",
    "\n",
    "#My student ID: 740094448\n",
    "print(\"Net Profit Margin: \", NetProfitMargin(740,448))\n",
    "print(\"Customer Acquisition Cost (CAC): \", Cac(7400,9444))\n",
    "print(\"Net Promoter Score (NPS): \", Nps(740,400,944))\n",
    "print(\"Return on Investment (ROI): \", Roi(7404,9007))"
   ]
  },
  {
   "cell_type": "code",
   "execution_count": 3,
   "metadata": {},
   "outputs": [
    {
     "name": "stdout",
     "output_type": "stream",
     "text": [
      "  Month  Sales  Cumulative Sales\n",
      "0   Jan    200               200\n",
      "1   Feb    220               420\n",
      "2   Mar    210               630\n",
      "3   Apr    240               870\n",
      "4   May    250              1120\n"
     ]
    }
   ],
   "source": [
    "# Question 4 - Data Analysis with Pandas\n",
    "# Using a dictionary sales_data, create a DataFrame from this dictionary, and display the DataFrame.\n",
    "# Write code to calculate and print the cumulative monthly sales up to each month.\n",
    "import pandas as pd\n",
    "\n",
    "sales_data = {'Month': ['Jan', 'Feb', 'Mar', 'Apr', 'May'], 'Sales': [200, 220, 210, 240, 250]}\n",
    "\n",
    "#Create and Display Dataframe\n",
    "df = pd.DataFrame(sales_data)\n",
    "#print(df)\n",
    "\n",
    "#Cumulative monthly sales\n",
    "cumulative_sales = []\n",
    "total = 0\n",
    "\n",
    "for sales in df['Sales']:\n",
    "    total += sales\n",
    "    cumulative_sales.append(total)\n",
    "\n",
    "df['Cumulative Sales'] = cumulative_sales\n",
    "\n",
    "print(df)"
   ]
  },
  {
   "cell_type": "code",
   "execution_count": 9,
   "metadata": {},
   "outputs": [
    {
     "name": "stdout",
     "output_type": "stream",
     "text": [
      "Predicted demand at price £26: 145.17241379310343\n"
     ]
    },
    {
     "data": {
      "image/png": "[encoded data removed]",
      "text/plain": [
       "<Figure size 640x480 with 1 Axes>"
      ]
     },
     "metadata": {},
     "output_type": "display_data"
    }
   ],
   "source": [
    "# Question 5 - Linear Regression for Forecasting\n",
    "# Using the dataset below, create a linear regression model to predict the demand for given prices.\n",
    "# Predict the demand if the company sets the price at £26. Show a scatter plot of the data points and plot the regression line.\n",
    "\n",
    "# Price (£): 15, 18, 20, 22, 25, 27, 30\n",
    "# Demand (Units): 200, 180, 170, 160, 150, 140, 130\n",
    "\n",
    "import matplotlib.pyplot as plt\n",
    "import statsmodels.api as sm\n",
    "import numpy as np\n",
    "from sklearn.linear_model import LinearRegression\n",
    "\n",
    "price = np.array([15, 18, 20, 22, 25, 27, 30]).reshape(-1, 1)\n",
    "demand = np.array([200, 180, 170, 160, 150, 140, 130])\n",
    "\n",
    "mymodel = LinearRegression()\n",
    "mymodel.fit(price, demand)\n",
    "\n",
    "predict_demand = mymodel.predict(np.array([[26]]))\n",
    "print(f\"Predicted demand at price £26: {predict_demand[0]}\")\n",
    "\n",
    "# Regression line\n",
    "plt.scatter(price, demand, color='blue')\n",
    "plt.plot(price, mymodel.predict(price), color='red')\n",
    "plt.xlabel(\"Price (£)\")\n",
    "plt.ylabel(\"Demand (Units)\")\n",
    "plt.title(\"Price and Demand\")\n",
    "plt.show()\n"
   ]
  },
  {
   "cell_type": "code",
   "execution_count": 27,
   "metadata": {},
   "outputs": [
    {
     "name": "stdout",
     "output_type": "stream",
     "text": [
      "155\n"
     ]
    }
   ],
   "source": [
    "# Question 6 - Error Handling\n",
    "# You are given a dictionary of prices for different products.\n",
    "prices = {'A': 50, 'B': 75, 'C': 'unknown', 'D': 30}\n",
    "\n",
    "# Write a function to calculate the total price of all items, handling any non-numeric values by skipping them.\n",
    "# Include error handling in your function and explain where and why it’s needed.\n",
    "total_price = 0\n",
    "\n",
    "for key, values in prices.items():\n",
    "    if type(values) == int or type(values) == float:     # this will handling error if the value is not numbers it will skip\n",
    "        total_price += values\n",
    "    else:\n",
    "        continue\n",
    "\n",
    "print(total_price)"
   ]
  },
  {
   "cell_type": "code",
   "execution_count": 23,
   "metadata": {},
   "outputs": [
    {
     "data": {
      "text/plain": [
       "<function matplotlib.pyplot.show(close=None, block=None)>"
      ]
     },
     "execution_count": 23,
     "metadata": {},
     "output_type": "execute_result"
    },
    {
     "data": {
      "image/png": "[encoded data removed]",
      "text/plain": [
       "<Figure size 640x480 with 1 Axes>"
      ]
     },
     "metadata": {},
     "output_type": "display_data"
    }
   ],
   "source": [
    "# Question 7 - Plotting and Visualization\n",
    "# Generate 50 random numbers between 1 and 500, then:\n",
    "# Plot a histogram to visualize the distribution of these numbers.\n",
    "# Add appropriate labels for the x-axis and y-axis, and include a title for the histogram.\n",
    "\n",
    "import random\n",
    "\n",
    "numbers = [random.randint(1,500) for i in range(50)]\n",
    "\n",
    "plt.hist(numbers, bins=10, color='pink')\n",
    "plt.xlabel('Value')\n",
    "plt.ylabel('Frequency')\n",
    "plt.title('Distribution of 50 Random Numbers')\n",
    "plt.show"
   ]
  },
  {
   "cell_type": "code",
   "execution_count": 17,
   "metadata": {},
   "outputs": [
    {
     "name": "stdout",
     "output_type": "stream",
     "text": [
      "[5, 24, 9, 30, 7, 20]\n"
     ]
    }
   ],
   "source": [
    "# Question 8 - List Comprehensions\n",
    "# Given a list of integers representing order quantities.\n",
    "quantities = [5, 12, 9, 15, 7, 10]\n",
    "\n",
    "# Use a list comprehension to create a new list that doubles each quantity that is 10 or more.\n",
    "# Print the original and the new lists.\n",
    "\n",
    "new_list = [i*2 if i >= 10 else i for i in quantities ]\n",
    "\n",
    "print(new_list)"
   ]
  },
  {
   "cell_type": "code",
   "execution_count": 143,
   "metadata": {},
   "outputs": [
    {
     "name": "stdout",
     "output_type": "stream",
     "text": [
      "[5, 24, 9, 30, 7, 20]\n"
     ]
    }
   ],
   "source": [
    "#another way using for loop\n",
    "\n",
    "mylist = []\n",
    "\n",
    "for i in range(len(quantities)):\n",
    "    if quantities[i] >= 10:\n",
    "        num = quantities[i]*2\n",
    "        mylist.append(num)\n",
    "        continue\n",
    "    mylist.append(quantities[i])\n",
    "\n",
    "print(mylist)"
   ]
  },
  {
   "cell_type": "code",
   "execution_count": 12,
   "metadata": {},
   "outputs": [
    {
     "name": "stdout",
     "output_type": "stream",
     "text": [
      "{'product_A': 4, 'product_B': 5, 'product_E': 5}\n"
     ]
    }
   ],
   "source": [
    "# Question 9 - Dictionary Manipulation\n",
    "# Using the dictionary below, filter out the products with a rating of less than 4 and create a new dictionary with the remaining products.\n",
    "ratings = {'product_A': 4, 'product_B': 5, 'product_C': 3, 'product_D': 2, 'product_E': 5}\n",
    "\n",
    "good_ratings = {}\n",
    "\n",
    "for key, values in ratings.items():\n",
    "    if values >= 4:\n",
    "        good_ratings[key] = values\n",
    "\n",
    "print(good_ratings)"
   ]
  },
  {
   "cell_type": "code",
   "execution_count": null,
   "metadata": {},
   "outputs": [
    {
     "name": "stdout",
     "output_type": "stream",
     "text": [
      "The average is  30.0\n"
     ]
    }
   ],
   "source": [
    "# Question 10 - Debugging and Correcting Code\n",
    "# The following code intends to calculate the average of a list of numbers, but it contains errors:\n",
    "values = [10, 20, 30, 40, 50]\n",
    "total = 0\n",
    "for i in values:\n",
    "    total = total + i\n",
    "average = total / len(values)\n",
    "print(\"The average is\" + average)\n",
    "\n",
    "# Identify and correct the errors in the code.\n",
    "# Comment on each error and explain your fixes.\n",
    "\n",
    "# Error is in the last line because it's trying to combine(+) string with int/float which is impossible\n",
    "# Below is fixed version\n",
    "\n",
    "values = [10, 20, 30, 40, 50]\n",
    "total = 0\n",
    "for i in values:\n",
    "    total = total + i\n",
    "average = total / len(values)\n",
    "print(\"The average is \", average)"
   ]
  }
 ],
 "metadata": {
  "kernelspec": {
   "display_name": "base",
   "language": "python",
   "name": "python3"
  },
  "language_info": {
   "codemirror_mode": {
    "name": "ipython",
    "version": 3
   },
   "file_extension": ".py",
   "mimetype": "text/x-python",
   "name": "python",
   "nbconvert_exporter": "python",
   "pygments_lexer": "ipython3",
   "version": "3.12.7"
  }
 },
 "nbformat": 4,
 "nbformat_minor": 2
}
