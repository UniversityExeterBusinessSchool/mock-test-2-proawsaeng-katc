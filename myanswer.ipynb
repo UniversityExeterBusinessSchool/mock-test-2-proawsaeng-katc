{
 "cells": [
  {
   "cell_type": "code",
   "execution_count": 7,
   "metadata": {},
   "outputs": [
    {
     "name": "stdout",
     "output_type": "stream",
     "text": [
      "104.28571428571429\n"
     ]
    }
   ],
   "source": [
    "# Question 1 - Loops and Lists\n",
    "# You are given a list of numbers representing weekly sales in units.\n",
    "weekly_sales = [120, 85, 100, 90, 110, 95, 130]\n",
    "\n",
    "# Write a for loop that iterates through the list and prints whether each week's sales were above or below the average sales for the period.\n",
    "# Calculate and print the average sales.\n",
    "\n",
    "# Find average sales\n",
    "i=0\n",
    "avg_sales=0\n",
    "for i in weekly_sales:\n",
    "    avg_sales = avg_sales + i\n",
    "\n",
    "avg_sales = avg_sales/len(weekly_sales)\n",
    "print(avg_sales)\n"
   ]
  },
  {
   "cell_type": "code",
   "execution_count": 12,
   "metadata": {},
   "outputs": [
    {
     "name": "stdout",
     "output_type": "stream",
     "text": [
      "Week:  0  is above average\n",
      "Week:  1  is below average\n",
      "Week:  2  is below average\n",
      "Week:  3  is below average\n",
      "Week:  4  is above average\n",
      "Week:  5  is below average\n",
      "Week:  6  is above average\n"
     ]
    }
   ],
   "source": [
    "# for loop to find which week's sales were above or below the average\n",
    "\n",
    "j = 0\n",
    "for j in range(len(weekly_sales)):\n",
    "    if  weekly_sales[j] < avg_sales:\n",
    "        print(\"Week: \", j, \" is below average\")\n",
    "    else:\n",
    "        print(\"Week: \", j, \" is above average\")"
   ]
  }
 ],
 "metadata": {
  "kernelspec": {
   "display_name": "base",
   "language": "python",
   "name": "python3"
  },
  "language_info": {
   "codemirror_mode": {
    "name": "ipython",
    "version": 3
   },
   "file_extension": ".py",
   "mimetype": "text/x-python",
   "name": "python",
   "nbconvert_exporter": "python",
   "pygments_lexer": "ipython3",
   "version": "3.12.7"
  }
 },
 "nbformat": 4,
 "nbformat_minor": 2
}
