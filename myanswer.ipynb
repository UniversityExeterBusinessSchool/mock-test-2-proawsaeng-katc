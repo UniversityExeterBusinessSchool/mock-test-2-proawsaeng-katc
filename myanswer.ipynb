{
 "cells": [
  {
   "cell_type": "code",
   "execution_count": 7,
   "metadata": {},
   "outputs": [
    {
     "name": "stdout",
     "output_type": "stream",
     "text": [
      "104.28571428571429\n"
     ]
    }
   ],
   "source": [
    "# Question 1 - Loops and Lists\n",
    "# You are given a list of numbers representing weekly sales in units.\n",
    "weekly_sales = [120, 85, 100, 90, 110, 95, 130]\n",
    "\n",
    "# Write a for loop that iterates through the list and prints whether each week's sales were above or below the average sales for the period.\n",
    "# Calculate and print the average sales.\n",
    "\n",
    "# Find average sales\n",
    "i=0\n",
    "avg_sales=0\n",
    "for i in weekly_sales:\n",
    "    avg_sales = avg_sales + i\n",
    "\n",
    "avg_sales = avg_sales/len(weekly_sales)\n",
    "print(avg_sales)\n"
   ]
  },
  {
   "cell_type": "code",
   "execution_count": 12,
   "metadata": {},
   "outputs": [
    {
     "name": "stdout",
     "output_type": "stream",
     "text": [
      "Week:  0  is above average\n",
      "Week:  1  is below average\n",
      "Week:  2  is below average\n",
      "Week:  3  is below average\n",
      "Week:  4  is above average\n",
      "Week:  5  is below average\n",
      "Week:  6  is above average\n"
     ]
    }
   ],
   "source": [
    "# for loop to find which week's sales were above or below the average\n",
    "\n",
    "j = 0\n",
    "for j in range(len(weekly_sales)):\n",
    "    if  weekly_sales[j] < avg_sales:\n",
    "        print(\"Week: \", j, \" is below average\")\n",
    "    else:\n",
    "        print(\"Week: \", j, \" is above average\")"
   ]
  },
  {
   "cell_type": "code",
   "execution_count": 14,
   "metadata": {},
   "outputs": [],
   "source": [
    "# Question 2 - String Manipulation\n",
    "# A customer feedback string is provided:\n",
    "customer_feedback = \"\"\"The product was good but could be improved. I especially appreciated the customer support and fast response times.\"\"\"\n",
    "\n",
    "# Find the first and last occurrence of the words 'good' and 'improved' in the feedback using string methods.\n",
    "# Store each position in a list as a tuple (start, end) for both words and print the list."
   ]
  },
  {
   "cell_type": "code",
   "execution_count": null,
   "metadata": {},
   "outputs": [
    {
     "name": "stdout",
     "output_type": "stream",
     "text": [
      "[(16, 20), (34, 42)]\n"
     ]
    }
   ],
   "source": [
    "# define the target words\n",
    "my_list = ['good', 'improved']\n",
    "\n",
    "#for storing start and end location\n",
    "my_coordinates = []\n",
    "\n",
    "for i in my_list:\n",
    "    start_loc = customer_feedback.find(i)\n",
    "    wordlen = len(i)\n",
    "    end_loc = start_loc + wordlen\n",
    "\n",
    "    my_coordinates.append((start_loc,end_loc))\n",
    "\n",
    "print(my_coordinates) #[(16, 20), (34, 42)]"
   ]
  },
  {
   "cell_type": "code",
   "execution_count": null,
   "metadata": {},
   "outputs": [],
   "source": [
    "# Question 3 - Functions for Business Metrics\n",
    "# Define functions to calculate the following metrics, and call each function with sample values (use your student ID digits for customization).\n",
    "\n",
    "# 1. Net Profit Margin: Calculate as (Net Profit / Revenue) * 100.\n",
    "# 2. Customer Acquisition Cost (CAC): Calculate as (Total Marketing Cost / New Customers Acquired).\n",
    "# 3. Net Promoter Score (NPS): Calculate as (Promoters - Detractors) / Total Respondents * 100.\n",
    "# 4. Return on Investment (ROI): Calculate as (Net Gain from Investment / Investment Cost) * 100.\n",
    "\n"
   ]
  }
 ],
 "metadata": {
  "kernelspec": {
   "display_name": "base",
   "language": "python",
   "name": "python3"
  },
  "language_info": {
   "codemirror_mode": {
    "name": "ipython",
    "version": 3
   },
   "file_extension": ".py",
   "mimetype": "text/x-python",
   "name": "python",
   "nbconvert_exporter": "python",
   "pygments_lexer": "ipython3",
   "version": "3.12.7"
  }
 },
 "nbformat": 4,
 "nbformat_minor": 2
}
