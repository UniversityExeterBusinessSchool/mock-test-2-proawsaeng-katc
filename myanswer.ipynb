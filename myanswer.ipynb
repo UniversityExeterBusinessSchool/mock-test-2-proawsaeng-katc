{
 "cells": [
  {
   "cell_type": "code",
   "execution_count": 85,
   "metadata": {},
   "outputs": [
    {
     "name": "stdout",
     "output_type": "stream",
     "text": [
      "104.28571428571429\n"
     ]
    }
   ],
   "source": [
    "# Question 1 - Loops and Lists\n",
    "# You are given a list of numbers representing weekly sales in units.\n",
    "weekly_sales = [120, 85, 100, 90, 110, 95, 130]\n",
    "\n",
    "# Write a for loop that iterates through the list and prints whether each week's sales were above or below the average sales for the period.\n",
    "# Calculate and print the average sales.\n",
    "\n",
    "# Find average sales\n",
    "i=0\n",
    "avg_sales=0\n",
    "for i in weekly_sales:\n",
    "    avg_sales = avg_sales + i\n",
    "\n",
    "avg_sales = avg_sales/len(weekly_sales)\n",
    "print(avg_sales)\n"
   ]
  },
  {
   "cell_type": "code",
   "execution_count": 86,
   "metadata": {},
   "outputs": [
    {
     "name": "stdout",
     "output_type": "stream",
     "text": [
      "Week:  0  is above average\n",
      "Week:  1  is below average\n",
      "Week:  2  is below average\n",
      "Week:  3  is below average\n",
      "Week:  4  is above average\n",
      "Week:  5  is below average\n",
      "Week:  6  is above average\n"
     ]
    }
   ],
   "source": [
    "# for loop to find which week's sales were above or below the average\n",
    "\n",
    "j = 0\n",
    "for j in range(len(weekly_sales)):\n",
    "    if  weekly_sales[j] < avg_sales:\n",
    "        print(\"Week: \", j, \" is below average\")\n",
    "    else:\n",
    "        print(\"Week: \", j, \" is above average\")"
   ]
  },
  {
   "cell_type": "code",
   "execution_count": 87,
   "metadata": {},
   "outputs": [],
   "source": [
    "# Question 2 - String Manipulation\n",
    "# A customer feedback string is provided:\n",
    "customer_feedback = \"\"\"The product was good but could be improved. I especially appreciated the customer support and fast response times.\"\"\"\n",
    "\n",
    "# Find the first and last occurrence of the words 'good' and 'improved' in the feedback using string methods.\n",
    "# Store each position in a list as a tuple (start, end) for both words and print the list."
   ]
  },
  {
   "cell_type": "code",
   "execution_count": 88,
   "metadata": {},
   "outputs": [
    {
     "name": "stdout",
     "output_type": "stream",
     "text": [
      "[(16, 20), (34, 42)]\n"
     ]
    }
   ],
   "source": [
    "# define the target words\n",
    "my_list = ['good', 'improved']\n",
    "\n",
    "#for storing start and end location\n",
    "my_coordinates = []\n",
    "\n",
    "for i in my_list:\n",
    "    start_loc = customer_feedback.find(i)\n",
    "    wordlen = len(i)\n",
    "    end_loc = start_loc + wordlen\n",
    "\n",
    "    my_coordinates.append((start_loc,end_loc))\n",
    "\n",
    "print(my_coordinates) #[(16, 20), (34, 42)]"
   ]
  },
  {
   "cell_type": "code",
   "execution_count": 89,
   "metadata": {},
   "outputs": [
    {
     "name": "stdout",
     "output_type": "stream",
     "text": [
      "7.834999152973064\n",
      "165.19866071428572\n",
      "-5.0\n",
      "1663.8714028776978\n"
     ]
    }
   ],
   "source": [
    "# Question 3 - Functions for Business Metrics\n",
    "# Define functions to calculate the following metrics, and call each function with sample values (use your student ID digits for customization).\n",
    "\n",
    "# 1. Net Profit Margin: Calculate as (Net Profit / Revenue) * 100.\n",
    "# 2. Customer Acquisition Cost (CAC): Calculate as (Total Marketing Cost / New Customers Acquired).\n",
    "# 3. Net Promoter Score (NPS): Calculate as (Promoters - Detractors) / Total Respondents * 100.\n",
    "# 4. Return on Investment (ROI): Calculate as (Net Gain from Investment / Investment Cost) * 100.\n",
    "\n",
    "def NetProfitMargin(netprofit, revenue):\n",
    "    return (netprofit/revenue) * 100\n",
    "\n",
    "\n",
    "def Cac(totalmarketingcost, newcustomers):\n",
    "    return (totalmarketingcost/newcustomers)\n",
    "\n",
    "\n",
    "def Nps(promoters, detractors, totalrespon):\n",
    "    return((promoters-detractors)/totalrespon*100)\n",
    "\n",
    "def Roi(netgain, investcost):\n",
    "    return((netgain/investcost)*100)\n",
    "\n",
    "# test function (StudendID: 740094448)\n",
    "print(NetProfitMargin(7400, 94448))\n",
    "print(Cac(74009,448))\n",
    "print(Nps(74,94,400))\n",
    "print(Roi(74009,4448))\n",
    "\n",
    "   "
   ]
  },
  {
   "cell_type": "code",
   "execution_count": 90,
   "metadata": {},
   "outputs": [],
   "source": [
    "# Question 4 - Data Analysis with Pandas\n",
    "# Using a dictionary sales_data, create a DataFrame from this dictionary, and display the DataFrame.\n",
    "# Write code to calculate and print the cumulative monthly sales up to each month.\n",
    "import pandas as pd\n",
    "\n",
    "sales_data = {'Month': ['Jan', 'Feb', 'Mar', 'Apr', 'May'], 'Sales': [200, 220, 210, 240, 250]}"
   ]
  },
  {
   "cell_type": "code",
   "execution_count": 91,
   "metadata": {},
   "outputs": [
    {
     "name": "stdout",
     "output_type": "stream",
     "text": [
      "  Month  Sales\n",
      "0   Jan    200\n",
      "1   Feb    220\n",
      "2   Mar    210\n",
      "3   Apr    240\n",
      "4   May    250\n"
     ]
    }
   ],
   "source": [
    "#create and display dataframe\n",
    "df = pd.DataFrame(sales_data)\n",
    "print(df)"
   ]
  },
  {
   "cell_type": "code",
   "execution_count": 92,
   "metadata": {},
   "outputs": [
    {
     "name": "stdout",
     "output_type": "stream",
     "text": [
      "[200, 420, 630, 870, 1120]\n",
      "  Month  Sales  Cumulative Sales\n",
      "0   Jan    200               200\n",
      "1   Feb    220               420\n",
      "2   Mar    210               630\n",
      "3   Apr    240               870\n",
      "4   May    250              1120\n"
     ]
    }
   ],
   "source": [
    "#cumulative monthly sales\n",
    "cumulative_sales = []\n",
    "total = 0\n",
    "\n",
    "for i in range(len(df['Sales'])):\n",
    "    total += df['Sales'][i]\n",
    "    cumulative_sales.append(total)\n",
    "\n",
    "#cumulative sales\n",
    "print(cumulative_sales)\n",
    "\n",
    "#add new column to df for cumulative sales\n",
    "df['Cumulative Sales'] = cumulative_sales\n",
    "print(df)\n"
   ]
  },
  {
   "cell_type": "code",
   "execution_count": 93,
   "metadata": {},
   "outputs": [],
   "source": [
    "# Question 5 - Linear Regression for Forecasting\n",
    "# Using the dataset below, create a linear regression model to predict the demand for given prices.\n",
    "# Predict the demand if the company sets the price at £26. Show a scatter plot of the data points and plot the regression line.\n",
    "\n",
    "# Price (£): 15, 18, 20, 22, 25, 27, 30\n",
    "# Demand (Units): 200, 180, 170, 160, 150, 140, 130\n",
    "\n",
    "import matplotlib.pyplot as plt\n",
    "import statsmodels.api as sm"
   ]
  },
  {
   "cell_type": "code",
   "execution_count": null,
   "metadata": {},
   "outputs": [
    {
     "name": "stdout",
     "output_type": "stream",
     "text": [
      "   Price  Demand\n",
      "0     15     200\n",
      "1     18     180\n",
      "2     20     170\n",
      "3     22     160\n",
      "4     25     150\n",
      "5     27     140\n",
      "6     30     130\n"
     ]
    }
   ],
   "source": [
    "#make dataframe to store data\n",
    "data = pd.DataFrame({\"Price\":[15, 18, 20, 22, 25, 27, 30], \"Demand\":[200, 180, 170, 160, 150, 140, 130]})"
   ]
  },
  {
   "cell_type": "code",
   "execution_count": 97,
   "metadata": {},
   "outputs": [
    {
     "data": {
      "image/png": "[encoded data removed]",
      "text/plain": [
       "<Figure size 640x480 with 1 Axes>"
      ]
     },
     "metadata": {},
     "output_type": "display_data"
    }
   ],
   "source": [
    "#values for plot\n",
    "x = data['Price']\n",
    "y = data['Demand']\n",
    "\n",
    "model = sm.OLS(y,sm.add_constant(x))\n",
    "result = model.fit()\n",
    "\n",
    "x_pre = sm.add_constant(x)\n",
    "y_pre = result.predict(x_pre)\n",
    "\n",
    "#values for prediction\n",
    "newprice = pd.DataFrame({\"Price\":[26]})\n",
    "newprice_cons = sm.add_constant(newprice, has_constant='add')\n",
    "predictdemand = result.predict(newprice_cons)\n",
    "\n",
    "plt.scatter(x, y, color='blue', label='Actual Data')\n",
    "plt.plot(x, y_pre, color='red', label='Regression Line')\n",
    "plt.scatter(26, predictdemand.iloc[0], color='green', label='Predicted at £26')\n",
    "\n",
    "plt.xlabel('Price (£)')\n",
    "plt.ylabel('Demand (Units)')\n",
    "plt.title('Linear Regression: Price vs Demand')\n",
    "plt.legend()\n",
    "plt.grid(True)\n",
    "plt.show()"
   ]
  },
  {
   "cell_type": "code",
   "execution_count": 99,
   "metadata": {},
   "outputs": [],
   "source": [
    "# Question 6 - Error Handling\n",
    "# You are given a dictionary of prices for different products.\n",
    "prices = {'A': 50, 'B': 75, 'C': 'unknown', 'D': 30}\n",
    "\n",
    "# Write a function to calculate the total price of all items, handling any non-numeric values by skipping them.\n",
    "# Include error handling in your function and explain where and why it’s needed."
   ]
  },
  {
   "cell_type": "code",
   "execution_count": null,
   "metadata": {},
   "outputs": [
    {
     "name": "stdout",
     "output_type": "stream",
     "text": [
      "155\n"
     ]
    }
   ],
   "source": [
    "#function for calculating total price\n",
    "\n",
    "def TotalPrice(price):\n",
    "    total = 0\n",
    "    for key, value in prices.items():\n",
    "        if type(value) not in (int, float): #Error Handling is here to skip other datatype that's not numeric\n",
    "            continue\n",
    "        total += value\n",
    "    \n",
    "    return total\n",
    "\n",
    "print(TotalPrice(prices))"
   ]
  },
  {
   "cell_type": "code",
   "execution_count": 107,
   "metadata": {},
   "outputs": [
    {
     "data": {
      "image/png": "[encoded data removed]",
      "text/plain": [
       "<Figure size 640x480 with 1 Axes>"
      ]
     },
     "metadata": {},
     "output_type": "display_data"
    }
   ],
   "source": [
    "# Question 7 - Plotting and Visualization\n",
    "# Generate 50 random numbers between 1 and 500, then:\n",
    "# Plot a histogram to visualize the distribution of these numbers.\n",
    "# Add appropriate labels for the x-axis and y-axis, and include a title for the histogram.\n",
    "\n",
    "import random\n",
    "\n",
    "numbers = [random.randint(1,500) for i in range(50)]\n",
    "\n",
    "#print(len(numbers))\n",
    "\n",
    "plt.hist(numbers)\n",
    "plt.xlabel('Values')\n",
    "plt.ylabel('Frequency')\n",
    "plt.title('Distribution of 50 random numbers')\n",
    "plt.show()"
   ]
  }
 ],
 "metadata": {
  "kernelspec": {
   "display_name": "base",
   "language": "python",
   "name": "python3"
  },
  "language_info": {
   "codemirror_mode": {
    "name": "ipython",
    "version": 3
   },
   "file_extension": ".py",
   "mimetype": "text/x-python",
   "name": "python",
   "nbconvert_exporter": "python",
   "pygments_lexer": "ipython3",
   "version": "3.12.7"
  }
 },
 "nbformat": 4,
 "nbformat_minor": 2
}
